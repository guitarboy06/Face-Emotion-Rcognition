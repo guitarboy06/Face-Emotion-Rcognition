{
 "cells": [
  {
   "cell_type": "code",
   "execution_count": 2,
   "metadata": {},
   "outputs": [],
   "source": [
    "from tensorflow.keras.models import load_model\n",
    "import cv2\n",
    "import numpy as np"
   ]
  },
  {
   "cell_type": "code",
   "execution_count": 3,
   "metadata": {},
   "outputs": [],
   "source": [
    "model=load_model('model-019.model')"
   ]
  },
  {
   "cell_type": "code",
   "execution_count": 4,
   "metadata": {},
   "outputs": [],
   "source": [
    "face_det=cv2.CascadeClassifier('haarcascade_frontalface_default.xml')"
   ]
  },
  {
   "cell_type": "code",
   "execution_count": 5,
   "metadata": {},
   "outputs": [],
   "source": [
    "label={0:'angry',1:'disgust',2:'fear',3:'happy',4:'nutral',5:'sad',6:'surprise'}"
   ]
  },
  {
   "cell_type": "code",
   "execution_count": 8,
   "metadata": {},
   "outputs": [],
   "source": [
    "def expression_detection(img):\n",
    "    face=face_det.detectMultiScale(img)\n",
    "    for (x,y,w,h) in face:\n",
    "        face_img=img[y:y+h,x:x+w]\n",
    "        face_img=cv2.resize(face_img,(48,48))\n",
    "        face_img=np.reshape(face_img,(1,48,48,3))\n",
    "        prediction=model.predict(face_img)\n",
    "        \n",
    "        if np.argmax(prediction[0])==0:\n",
    "            cv2.rectangle(img,(x,y),(x+w,y+h),color=(0,0,255),thickness=2)\n",
    "            cv2.putText(img, label[0], (x, y-10),cv2.FONT_HERSHEY_SIMPLEX,0.6,(255,255,255),2)\n",
    "        elif np.argmax(prediction[0])==1:\n",
    "            cv2.rectangle(img,(x,y),(x+w,y+h),color=(0,255,239),thickness=2)\n",
    "            cv2.putText(img, label[1], (x, y-10),cv2.FONT_HERSHEY_SIMPLEX,0.6,(255,255,255),2)\n",
    "        elif np.argmax(prediction[0])==2:\n",
    "            cv2.rectangle(img,(x,y),(x+w,y+h),color=(75,4,30),thickness=2)\n",
    "            cv2.putText(img, label[2], (x, y-10),cv2.FONT_HERSHEY_SIMPLEX,0.6,(255,255,255),2)\n",
    "        elif np.argmax(prediction[0])==3:\n",
    "            cv2.rectangle(img,(x,y),(x+w,y+h),color=(0,255,0),thickness=2)\n",
    "            cv2.putText(img, label[3], (x, y-10),cv2.FONT_HERSHEY_SIMPLEX,0.6,(255,255,255),2)\n",
    "        elif np.argmax(prediction[0])==4:\n",
    "            cv2.rectangle(img,(x,y),(x+w,y+h),color=(255,255,255),thickness=2)\n",
    "            cv2.putText(img, label[4], (x, y-10),cv2.FONT_HERSHEY_SIMPLEX,0.6,(255,255,255),2)\n",
    "        elif np.argmax(prediction[0])==5:\n",
    "            cv2.rectangle(img,(x,y),(x+w,y+h),color=(239,255,0),thickness=2)\n",
    "            cv2.putText(img, label[5], (x, y-10),cv2.FONT_HERSHEY_SIMPLEX,0.6,(255,255,255),2)\n",
    "        elif np.argmax(prediction[0])==6:\n",
    "            cv2.rectangle(img,(x,y),(x+w,y+h),color=(255,153,153),thickness=2)\n",
    "            cv2.putText(img, label[6], (x, y-10),cv2.FONT_HERSHEY_SIMPLEX,0.6,(255,255,255),2)\n",
    "        return face "
   ]
  },
  {
   "cell_type": "code",
   "execution_count": 10,
   "metadata": {},
   "outputs": [],
   "source": [
    "cap=cv2.VideoCapture(0)\n",
    "\n",
    "while True:\n",
    "    ret,frame=cap.read()\n",
    "    expression_detection(frame)\n",
    "    cv2.imshow('Emotion Recognition',frame)\n",
    "    if cv2.waitKey(3)==27:\n",
    "        break\n",
    "cap.release()\n",
    "cv2.destroyAllWindows()"
   ]
  },
  {
   "cell_type": "code",
   "execution_count": null,
   "metadata": {},
   "outputs": [],
   "source": []
  },
  {
   "cell_type": "code",
   "execution_count": null,
   "metadata": {},
   "outputs": [],
   "source": []
  },
  {
   "cell_type": "code",
   "execution_count": null,
   "metadata": {},
   "outputs": [],
   "source": []
  },
  {
   "cell_type": "code",
   "execution_count": null,
   "metadata": {},
   "outputs": [],
   "source": []
  },
  {
   "cell_type": "code",
   "execution_count": null,
   "metadata": {},
   "outputs": [],
   "source": []
  },
  {
   "cell_type": "code",
   "execution_count": null,
   "metadata": {},
   "outputs": [],
   "source": []
  },
  {
   "cell_type": "code",
   "execution_count": null,
   "metadata": {},
   "outputs": [],
   "source": []
  },
  {
   "cell_type": "code",
   "execution_count": null,
   "metadata": {},
   "outputs": [],
   "source": []
  },
  {
   "cell_type": "code",
   "execution_count": null,
   "metadata": {},
   "outputs": [],
   "source": []
  }
 ],
 "metadata": {
  "kernelspec": {
   "display_name": "Python 3",
   "language": "python",
   "name": "python3"
  },
  "language_info": {
   "codemirror_mode": {
    "name": "ipython",
    "version": 3
   },
   "file_extension": ".py",
   "mimetype": "text/x-python",
   "name": "python",
   "nbconvert_exporter": "python",
   "pygments_lexer": "ipython3",
   "version": "3.8.3"
  }
 },
 "nbformat": 4,
 "nbformat_minor": 4
}
